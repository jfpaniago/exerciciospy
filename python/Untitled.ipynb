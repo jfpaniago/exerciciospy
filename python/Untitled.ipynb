{
 "cells": [
  {
   "cell_type": "code",
   "execution_count": 4,
   "metadata": {},
   "outputs": [
    {
     "ename": "SyntaxError",
     "evalue": "invalid syntax (<ipython-input-4-827ba1760dc2>, line 6)",
     "output_type": "error",
     "traceback": [
      "\u001b[1;36m  File \u001b[1;32m\"<ipython-input-4-827ba1760dc2>\"\u001b[1;36m, line \u001b[1;32m6\u001b[0m\n\u001b[1;33m    start date = datetime.date(2021,1,1)\u001b[0m\n\u001b[1;37m          ^\u001b[0m\n\u001b[1;31mSyntaxError\u001b[0m\u001b[1;31m:\u001b[0m invalid syntax\n"
     ]
    }
   ],
   "source": [
    "import duka.app.app as import_ticks_method\n",
    "from duka.core.utils import TimeFrame\n",
    "import datetime\n",
    "\n",
    "\n",
    "start date = datetime.date(2021,1,1)\n",
    "end date = datetime.date(2021,3,1)\n",
    "Assets=[\"EURUSD\"]\n",
    "\n",
    "import_ticks_method(Assets,start_date,end_date,1,TimeFrame.TICK,\".\",True)"
   ]
  },
  {
   "cell_type": "code",
   "execution_count": null,
   "metadata": {},
   "outputs": [],
   "source": []
  },
  {
   "cell_type": "code",
   "execution_count": null,
   "metadata": {},
   "outputs": [],
   "source": []
  }
 ],
 "metadata": {
  "kernelspec": {
   "display_name": "Python 3",
   "language": "python",
   "name": "python3"
  },
  "language_info": {
   "codemirror_mode": {
    "name": "ipython",
    "version": 3
   },
   "file_extension": ".py",
   "mimetype": "text/x-python",
   "name": "python",
   "nbconvert_exporter": "python",
   "pygments_lexer": "ipython3",
   "version": "3.8.5"
  }
 },
 "nbformat": 4,
 "nbformat_minor": 4
}
